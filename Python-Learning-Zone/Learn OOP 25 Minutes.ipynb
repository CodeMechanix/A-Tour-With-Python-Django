{
 "cells": [
  {
   "cell_type": "code",
   "execution_count": 4,
   "metadata": {},
   "outputs": [
    {
     "name": "stdout",
     "output_type": "stream",
     "text": [
      "-10\n"
     ]
    }
   ],
   "source": [
    "# Class, Object and Method\n",
    "class Calculator:\n",
    "    def addition(self, a, b):\n",
    "        return a+b\n",
    "    def subtration(self, a, b):\n",
    "        return (a-b)\n",
    "    def multiplication(self, a, b):\n",
    "        return a*b\n",
    "    \n",
    "my_cal = Calculator()\n",
    "temp = my_cal.subtration(10, 20)\n",
    "print(temp)"
   ]
  },
  {
   "cell_type": "code",
   "execution_count": 3,
   "metadata": {},
   "outputs": [
    {
     "name": "stdout",
     "output_type": "stream",
     "text": [
      "-1\n"
     ]
    }
   ],
   "source": [
    "# Constructor\n",
    "class Calculator:\n",
    "    def __init__(self, a, b):\n",
    "        self.a = a\n",
    "        self.b = b\n",
    "    def addition(self):\n",
    "        return self.a + self.b\n",
    "    def subtration(self):\n",
    "        return self.a - self.b\n",
    "    def multiplication(self):\n",
    "        return self.a * self.b\n",
    "    def division(self):\n",
    "        try:\n",
    "            return self.a + self.b\n",
    "        except:\n",
    "            return \"It is Impossible\"\n",
    "my_cal = Calculator(1,2)\n",
    "temp = my_cal.subtration()\n",
    "print(temp)"
   ]
  },
  {
   "cell_type": "code",
   "execution_count": 4,
   "metadata": {},
   "outputs": [
    {
     "name": "stdout",
     "output_type": "stream",
     "text": [
      "30\n"
     ]
    }
   ],
   "source": [
    "# Inheritance \n",
    "class SuperCalculator:\n",
    "    def addition(self, a, b):\n",
    "        return a+b\n",
    "    def subtration(self, a, b):\n",
    "        return abs(a-b)\n",
    "    def multiplication(self, a, b):\n",
    "        return a*b\n",
    "    def division(self, a, b):\n",
    "        try:\n",
    "            return a/b\n",
    "        except ZeroDivisionError:\n",
    "            return \"It is impossible to divide by Zero\"\n",
    "    def square(self, a):\n",
    "        return a*a\n",
    "    def cube(self, a):\n",
    "        return a*a*a\n",
    "my_cal = SuperCalculator()\n",
    "temp = my_cal.addition(10, 20)\n",
    "print(temp)"
   ]
  },
  {
   "cell_type": "code",
   "execution_count": 7,
   "metadata": {},
   "outputs": [
    {
     "name": "stdout",
     "output_type": "stream",
     "text": [
      "100\n",
      "36\n"
     ]
    }
   ],
   "source": [
    "class Calculator:\n",
    "    def addition(self, a, b):\n",
    "        return a+b\n",
    "    def subtration(self, a, b):\n",
    "        return abs(a-b)\n",
    "    def multiplication(self, a, b):\n",
    "        return a*b\n",
    "    def division(self, a, b):\n",
    "        try:\n",
    "            return a/b\n",
    "        except ZeroDivisionError:\n",
    "            return \"It is impossible to divide by Zero\"\n",
    "class SuperCalculator(Calculator):\n",
    "    \"\"\"Child Class of Calculator\"\"\"\n",
    "    def square(self, a):\n",
    "        return a*a\n",
    "    def cube(self, a):\n",
    "        return a*a*a\n",
    "my_cal = SuperCalculator()\n",
    "temp = my_cal.multiplication(5,20)\n",
    "print(temp)\n",
    "temp = my_cal.square(6)\n",
    "print(temp)"
   ]
  },
  {
   "cell_type": "code",
   "execution_count": 27,
   "metadata": {},
   "outputs": [
    {
     "name": "stdout",
     "output_type": "stream",
     "text": [
      "30\n"
     ]
    }
   ],
   "source": [
    "# Method Overriding\n",
    "class Calculator:\n",
    "    def addition(self, a,b,c=None):\n",
    "        if(c!=None):\n",
    "            return a+b+c\n",
    "        return a+b\n",
    "    def subtration(self, a, b):\n",
    "        return abs(a-b)\n",
    "    def multiplication(self, a, b):\n",
    "        return a*b\n",
    "    def division(self, a, b):\n",
    "        try:\n",
    "            return a/b\n",
    "        except ZeroDivisionError:\n",
    "            return \"It is impossible to divide by Zero\"\n",
    "class SuperCalculator(Calculator):\n",
    "    \"\"\"Child Class of Calculator\"\"\"\n",
    "    def square(self, a):\n",
    "        return a*a\n",
    "    def multiplication(self, a, b, c): # Override method\n",
    "        return a*b*c\n",
    "    def cube(self, a):\n",
    "        return a*a*a\n",
    "my_cal = Calculator()\n",
    "#my_cal1 = Calculator()\n",
    "temp = my_cal.addition(10, 20, 0)\n",
    "print(temp)"
   ]
  },
  {
   "cell_type": "code",
   "execution_count": 23,
   "metadata": {},
   "outputs": [
    {
     "name": "stdout",
     "output_type": "stream",
     "text": [
      "<list_iterator object at 0x000001A7447CCBE0>\n"
     ]
    }
   ],
   "source": [
    "# Iterator\n",
    "x = iter([1,2,3])\n",
    "print(x)"
   ]
  },
  {
   "cell_type": "code",
   "execution_count": 16,
   "metadata": {},
   "outputs": [
    {
     "data": {
      "text/plain": [
       "1"
      ]
     },
     "execution_count": 16,
     "metadata": {},
     "output_type": "execute_result"
    }
   ],
   "source": [
    "x.__next__()"
   ]
  },
  {
   "cell_type": "code",
   "execution_count": 17,
   "metadata": {},
   "outputs": [
    {
     "data": {
      "text/plain": [
       "2"
      ]
     },
     "execution_count": 17,
     "metadata": {},
     "output_type": "execute_result"
    }
   ],
   "source": [
    "x.__next__()"
   ]
  },
  {
   "cell_type": "code",
   "execution_count": 18,
   "metadata": {},
   "outputs": [
    {
     "data": {
      "text/plain": [
       "3"
      ]
     },
     "execution_count": 18,
     "metadata": {},
     "output_type": "execute_result"
    }
   ],
   "source": [
    "x.__next__()"
   ]
  },
  {
   "cell_type": "code",
   "execution_count": 19,
   "metadata": {},
   "outputs": [
    {
     "ename": "StopIteration",
     "evalue": "",
     "output_type": "error",
     "traceback": [
      "\u001b[1;31m---------------------------------------------------------------------------\u001b[0m",
      "\u001b[1;31mStopIteration\u001b[0m                             Traceback (most recent call last)",
      "\u001b[1;32m<ipython-input-19-e717e1c1f535>\u001b[0m in \u001b[0;36m<module>\u001b[1;34m()\u001b[0m\n\u001b[1;32m----> 1\u001b[1;33m \u001b[0mx\u001b[0m\u001b[1;33m.\u001b[0m\u001b[0m__next__\u001b[0m\u001b[1;33m(\u001b[0m\u001b[1;33m)\u001b[0m\u001b[1;33m\u001b[0m\u001b[0m\n\u001b[0m",
      "\u001b[1;31mStopIteration\u001b[0m: "
     ]
    }
   ],
   "source": [
    "x.__next__()"
   ]
  },
  {
   "cell_type": "code",
   "execution_count": null,
   "metadata": {},
   "outputs": [],
   "source": []
  }
 ],
 "metadata": {
  "kernelspec": {
   "display_name": "Python 3",
   "language": "python",
   "name": "python3"
  },
  "language_info": {
   "codemirror_mode": {
    "name": "ipython",
    "version": 3
   },
   "file_extension": ".py",
   "mimetype": "text/x-python",
   "name": "python",
   "nbconvert_exporter": "python",
   "pygments_lexer": "ipython3",
   "version": "3.6.4"
  }
 },
 "nbformat": 4,
 "nbformat_minor": 2
}
